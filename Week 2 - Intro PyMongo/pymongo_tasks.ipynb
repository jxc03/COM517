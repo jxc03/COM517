{
 "cells": [
  {
   "cell_type": "code",
   "execution_count": 1,
   "metadata": {},
   "outputs": [
    {
     "name": "stdout",
     "output_type": "stream",
     "text": [
      "Collecting pymongo\n",
      "  Downloading pymongo-4.10.1-cp312-cp312-win_amd64.whl.metadata (22 kB)\n",
      "Collecting dnspython<3.0.0,>=1.16.0 (from pymongo)\n",
      "  Downloading dnspython-2.6.1-py3-none-any.whl.metadata (5.8 kB)\n",
      "Downloading pymongo-4.10.1-cp312-cp312-win_amd64.whl (926 kB)\n",
      "   ---------------------------------------- 0.0/926.7 kB ? eta -:--:--\n",
      "   --------------------------------------- 926.7/926.7 kB 10.7 MB/s eta 0:00:00\n",
      "Downloading dnspython-2.6.1-py3-none-any.whl (307 kB)\n",
      "Installing collected packages: dnspython, pymongo\n",
      "Successfully installed dnspython-2.6.1 pymongo-4.10.1\n",
      "Note: you may need to restart the kernel to use updated packages.\n"
     ]
    }
   ],
   "source": [
    "pip install pymongo"
   ]
  },
  {
   "cell_type": "code",
   "execution_count": 1,
   "metadata": {},
   "outputs": [],
   "source": [
    "from pymongo import MongoClient\n",
    "client = MongoClient('mongodb://localhost:27017/')"
   ]
  },
  {
   "cell_type": "code",
   "execution_count": 10,
   "metadata": {},
   "outputs": [],
   "source": [
    "db = client.student_records"
   ]
  },
  {
   "cell_type": "code",
   "execution_count": 6,
   "metadata": {},
   "outputs": [],
   "source": [
    "students = db.students"
   ]
  },
  {
   "cell_type": "code",
   "execution_count": 12,
   "metadata": {},
   "outputs": [
    {
     "data": {
      "text/plain": [
       "InsertOneResult(ObjectId('67001d845903fe95c70a2f21'), acknowledged=True)"
      ]
     },
     "execution_count": 12,
     "metadata": {},
     "output_type": "execute_result"
    }
   ],
   "source": [
    "student = {\"name\": \"Johnathan Casino\", \"age\": 22, \"major\": \"Computing Technologies\"}\n",
    "students.insert_one(student)"
   ]
  },
  {
   "cell_type": "code",
   "execution_count": 15,
   "metadata": {},
   "outputs": [
    {
     "name": "stdout",
     "output_type": "stream",
     "text": [
      "{'_id': ObjectId('67001d845903fe95c70a2f21'), 'name': 'Johnathan Casino', 'age': 22, 'major': 'Computing Technologies'}\n"
     ]
    }
   ],
   "source": [
    "student = students.find_one( {\"name\": \"Johnathan Casino\"} )\n",
    "print(student)"
   ]
  },
  {
   "cell_type": "code",
   "execution_count": 25,
   "metadata": {},
   "outputs": [
    {
     "data": {
      "text/plain": [
       "InsertManyResult([ObjectId('67017461d47536432a6150f9'), ObjectId('67017461d47536432a6150fa')], acknowledged=True)"
      ]
     },
     "execution_count": 25,
     "metadata": {},
     "output_type": "execute_result"
    }
   ],
   "source": [
    "new_students = [\n",
    "    {\"name\": \"Jake Smith\", \"age\": 21, \"major\": \"Computer Science\"},\n",
    "    {\"name\": \"mike Tyson\", \"age\": 23, \"major\": \"Software Engineer\"}\n",
    "]\n",
    "students.insert_many(new_students)"
   ]
  },
  {
   "cell_type": "code",
   "execution_count": 38,
   "metadata": {},
   "outputs": [],
   "source": [
    "for student in students.find():\n",
    "    print(student)"
   ]
  },
  {
   "cell_type": "code",
   "execution_count": 7,
   "metadata": {},
   "outputs": [],
   "source": [
    "for student in students.find( {\"age\": {\"$gt\": 21} } ):\n",
    "    print(student)"
   ]
  },
  {
   "cell_type": "code",
   "execution_count": 27,
   "metadata": {},
   "outputs": [
    {
     "data": {
      "text/plain": [
       "UpdateResult({'n': 1, 'nModified': 1, 'ok': 1.0, 'updatedExisting': True}, acknowledged=True)"
      ]
     },
     "execution_count": 27,
     "metadata": {},
     "output_type": "execute_result"
    }
   ],
   "source": [
    "students.update_one(\n",
    "    {\"name\": \"mike Tyson\"},\n",
    "    {\"$set\": {\"name\": \"Mike Tyson\" } }\n",
    ")"
   ]
  },
  {
   "cell_type": "code",
   "execution_count": 23,
   "metadata": {},
   "outputs": [
    {
     "data": {
      "text/plain": [
       "UpdateResult({'n': 1, 'nModified': 1, 'ok': 1.0, 'updatedExisting': True}, acknowledged=True)"
      ]
     },
     "execution_count": 23,
     "metadata": {},
     "output_type": "execute_result"
    }
   ],
   "source": [
    "students.update_one(\n",
    "    {\"name\": \"Johnathan Casino\"},\n",
    "    {\"$set\": {\"graduation_year\": 2025 } }\n",
    ")"
   ]
  },
  {
   "cell_type": "code",
   "execution_count": 25,
   "metadata": {},
   "outputs": [
    {
     "data": {
      "text/plain": [
       "DeleteResult({'n': 1, 'ok': 1.0}, acknowledged=True)"
      ]
     },
     "execution_count": 25,
     "metadata": {},
     "output_type": "execute_result"
    }
   ],
   "source": [
    "students.delete_one( {\"name\": \"Mike Tyson\"} )"
   ]
  },
  {
   "cell_type": "code",
   "execution_count": 19,
   "metadata": {},
   "outputs": [
    {
     "data": {
      "text/plain": [
       "InsertManyResult([ObjectId('67017384d47536432a6150f7'), ObjectId('67017384d47536432a6150f8')], acknowledged=True)"
      ]
     },
     "execution_count": 19,
     "metadata": {},
     "output_type": "execute_result"
    }
   ],
   "source": [
    "bulk_students = [\n",
    "    {\"name\": \"Alice Brown\", \"age\": 24, \"major\": \"Chemistry\"},\n",
    "    {\"name\": \"Bobby White\", \"age\": 23, \"major\": \"Biology\"}\n",
    "]\n",
    "students.insert_many(bulk_students)"
   ]
  },
  {
   "cell_type": "code",
   "execution_count": 15,
   "metadata": {},
   "outputs": [
    {
     "name": "stdout",
     "output_type": "stream",
     "text": [
      "2\n"
     ]
    }
   ],
   "source": [
    "student_count = students.count_documents({})\n",
    "print(student_count)"
   ]
  },
  {
   "cell_type": "code",
   "execution_count": 28,
   "metadata": {},
   "outputs": [
    {
     "name": "stdout",
     "output_type": "stream",
     "text": [
      "{'_id': ObjectId('67017461d47536432a6150f9'), 'name': 'Jake Smith', 'age': 21, 'major': 'Computer Science'}\n"
     ]
    }
   ],
   "source": [
    "for student in students.find( {\"age\": {\"$lt\": 23} } ):\n",
    "    print(student)"
   ]
  },
  {
   "cell_type": "code",
   "execution_count": 31,
   "metadata": {},
   "outputs": [
    {
     "name": "stdout",
     "output_type": "stream",
     "text": [
      "{'_id': ObjectId('67017461d47536432a6150f9'), 'name': 'Jake Smith', 'age': 21, 'major': 'Computer Science'}\n",
      "{'_id': ObjectId('670170f4d47536432a6150f6'), 'name': 'Bobby White', 'age': 23, 'major': 'Biology'}\n",
      "{'_id': ObjectId('67017384d47536432a6150f8'), 'name': 'Bobby White', 'age': 23, 'major': 'Biology'}\n",
      "{'_id': ObjectId('67017461d47536432a6150fa'), 'name': 'Mike Tyson', 'age': 23, 'major': 'Software Engineer'}\n",
      "{'_id': ObjectId('670170f4d47536432a6150f5'), 'name': 'Alice Brown', 'age': 24, 'major': 'Chemistry'}\n",
      "{'_id': ObjectId('67017384d47536432a6150f7'), 'name': 'Alice Brown', 'age': 24, 'major': 'Chemistry'}\n"
     ]
    }
   ],
   "source": [
    "for student in students.find().sort(\"age\", 1):\n",
    "    print(student)"
   ]
  },
  {
   "cell_type": "code",
   "execution_count": 32,
   "metadata": {},
   "outputs": [
    {
     "data": {
      "text/plain": [
       "'name_1'"
      ]
     },
     "execution_count": 32,
     "metadata": {},
     "output_type": "execute_result"
    }
   ],
   "source": [
    "students.create_index( [(\"name\", 1)] )"
   ]
  },
  {
   "cell_type": "code",
   "execution_count": 33,
   "metadata": {},
   "outputs": [
    {
     "name": "stdout",
     "output_type": "stream",
     "text": [
      "{'_id': ObjectId('670170f4d47536432a6150f5'), 'name': 'Alice Brown', 'age': 24, 'major': 'Chemistry'}\n"
     ]
    }
   ],
   "source": [
    "student = students.find_one( {\"name\": \"Alice Brown\"} )\n",
    "print(student)"
   ]
  },
  {
   "cell_type": "code",
   "execution_count": 34,
   "metadata": {},
   "outputs": [],
   "source": [
    "students.drop()"
   ]
  },
  {
   "cell_type": "code",
   "execution_count": 36,
   "metadata": {},
   "outputs": [],
   "source": [
    "import csv\n",
    "\n",
    "with open(\"students.csv\", mode = \"w\", newline=\"\") as file:\n",
    "    writer = csv.writer(file)\n",
    "    writer.writerow( [\"Name\", \"Age\", \"Major\"] )\n",
    "\n",
    "    for studnet in students.find():\n",
    "        writer.writerow( [student[\"name\"], student[\"age\"], student[\"major\"]] )"
   ]
  },
  {
   "cell_type": "code",
   "execution_count": 37,
   "metadata": {},
   "outputs": [
    {
     "data": {
      "text/plain": [
       "UpdateResult({'n': 0, 'nModified': 0, 'ok': 1.0, 'updatedExisting': False}, acknowledged=True)"
      ]
     },
     "execution_count": 37,
     "metadata": {},
     "output_type": "execute_result"
    }
   ],
   "source": [
    "students.update_many(\n",
    "    {\"major\": \"Physics\"},\n",
    "    {\"$set\": {\"major\": \"Astrophysics\"} } \n",
    ")"
   ]
  },
  {
   "cell_type": "code",
   "execution_count": 39,
   "metadata": {},
   "outputs": [
    {
     "data": {
      "text/plain": [
       "DeleteResult({'n': 0, 'ok': 1.0}, acknowledged=True)"
      ]
     },
     "execution_count": 39,
     "metadata": {},
     "output_type": "execute_result"
    }
   ],
   "source": [
    "students.delete_many( {\"major\": \"Mathamatics\"} )"
   ]
  },
  {
   "cell_type": "code",
   "execution_count": 40,
   "metadata": {},
   "outputs": [],
   "source": [
    "for student in students.find({}, {\"name\": 1, \"age\": 1, \"_id\": 0} ):\n",
    "    print(student)"
   ]
  },
  {
   "cell_type": "code",
   "execution_count": 42,
   "metadata": {},
   "outputs": [
    {
     "name": "stdout",
     "output_type": "stream",
     "text": [
      "Student not found\n"
     ]
    }
   ],
   "source": [
    "student_exists = students.find_one( {\"name\": \"Alice Brown\"} )\n",
    "if student_exists:\n",
    "    print(\"Student found\")\n",
    "else:\n",
    "    print(\"Student not found\")"
   ]
  },
  {
   "cell_type": "code",
   "execution_count": 43,
   "metadata": {},
   "outputs": [
    {
     "name": "stdout",
     "output_type": "stream",
     "text": [
      "Number of students aged 21 or older: 0\n"
     ]
    }
   ],
   "source": [
    "count = students.count_documents( {\"age\": {\"gte\": 21}} )\n",
    "print(f\"Number of students aged 21 or older: {count}\")"
   ]
  },
  {
   "cell_type": "code",
   "execution_count": 44,
   "metadata": {},
   "outputs": [],
   "source": [
    "for student in students.find( {\"graduation_year\": {\"$exists\": False}} ):\n",
    "    print(student)"
   ]
  },
  {
   "cell_type": "code",
   "execution_count": 46,
   "metadata": {},
   "outputs": [
    {
     "data": {
      "text/plain": [
       "UpdateResult({'n': 0, 'nModified': 0, 'ok': 1.0, 'updatedExisting': False}, acknowledged=True)"
      ]
     },
     "execution_count": 46,
     "metadata": {},
     "output_type": "execute_result"
    }
   ],
   "source": [
    "students.update_many( {}, {\"$inc\": {\"age\": 1}} )"
   ]
  },
  {
   "cell_type": "code",
   "execution_count": 47,
   "metadata": {},
   "outputs": [],
   "source": [
    "for student in students.find().sort(\"age\", -1):\n",
    "    print(student)"
   ]
  },
  {
   "cell_type": "code",
   "execution_count": 48,
   "metadata": {},
   "outputs": [
    {
     "name": "stdout",
     "output_type": "stream",
     "text": [
      "None\n"
     ]
    }
   ],
   "source": [
    "updated_student = students.find_one_and_update(\n",
    "    {\"name\": \"John Smith\"},\n",
    "    {\"$set\": {\"age\": 25}},\n",
    "    return_document = True\n",
    ")\n",
    "print(updated_student)"
   ]
  },
  {
   "cell_type": "code",
   "execution_count": 49,
   "metadata": {},
   "outputs": [],
   "source": [
    "for student in students.find().limit(2):\n",
    "    print(student)"
   ]
  }
 ],
 "metadata": {
  "kernelspec": {
   "display_name": "Python 3",
   "language": "python",
   "name": "python3"
  },
  "language_info": {
   "codemirror_mode": {
    "name": "ipython",
    "version": 3
   },
   "file_extension": ".py",
   "mimetype": "text/x-python",
   "name": "python",
   "nbconvert_exporter": "python",
   "pygments_lexer": "ipython3",
   "version": "3.12.6"
  }
 },
 "nbformat": 4,
 "nbformat_minor": 2
}
